{
 "cells": [
  {
   "cell_type": "markdown",
   "metadata": {},
   "source": [
    "# Clustering Toronto Destinations Abstract\n",
    "An Applied Data Science Capstone Project\n",
    "by Morales, J. 2020\n",
    "\n",
    "\n",
    "## Problem description and background\n",
    "Planning a trip to a foreign city can be daunting. Often equipped with limited budget, time, and experience in the foreign city, visitors want to make the most of their stay. But how? This is where I would like to help. Using data science, the Toronto neighbourhoods dataset, and FourSquare, I would like to answer the following questions.\n",
    "\n",
    "- Which neighbourhoods are teeming with Toronto destinations for visitors?\n",
    "- Which neighbourhoods offer the most diverse experiences for Toronto visitors?\n",
    "\n",
    "\n",
    "## Dataset(s) description\n",
    "In this project, I will use three sets of data.\n",
    "\n",
    "**Toronto dataset**\n",
    "- It will have information such as Toronto postal codes, boroughs, neighbourhoods. \n",
    "- I will use it to glean information about the neighbourhoods.\n",
    "\n",
    "**Geocodes**\n",
    "- It will have information about geo coordinates, i.e., latitude and longtitude. \n",
    "- I will use it to glean information about the geo coordinates of the neighbourhoods so that I can get the venues from Foursquare.\n",
    "\n",
    "**Venues**\n",
    "- It will have information from Foursquare about different venues in the city of Toronto including the types of venues, reviews, and so on. \n",
    "- I will use it to glean information about the venues in different Toronto neighbourhoods."
   ]
  },
  {
   "cell_type": "markdown",
   "metadata": {},
   "source": [
    "## Appendices\n",
    "\n",
    "Clustering Toronto Destinations - Project Report\n",
    "\n",
    "https://github.com/jamiemorales/project-clustering-toronto-destinations/blob/master/clustering-toronto-destinations-report.ipynb\n",
    "\n",
    "\n",
    "\n",
    "Clustering Toronto Destinations - Project Code\n",
    "\n",
    "https://github.com/jamiemorales/project-clustering-toronto-destinations/blob/master/clustering-toronto-destinations-code.ipynb\n",
    "\n",
    "\n",
    "\n",
    "Clustering Toronto Destinations - Project Abstract\n",
    "\n",
    "https://github.com/jamiemorales/project-clustering-toronto-destinations/blob/master/clustering-toronto-destinations-abstract.ipynb\n",
    "\n",
    "\n",
    "\n",
    "Clustering Toronto Destinations - Project Presentation\n",
    "\n",
    "https://github.com/jamiemorales/project-clustering-toronto-destinations/blob/master/clustering-toronto-destinations-presentation.pdf\n",
    "\n",
    "\n",
    "\n",
    "\n",
    "Clustering Toronto Destinations - Project Repo\n",
    "\n",
    "https://github.com/jamiemorales/project-clustering-toronto-destinations"
   ]
  },
  {
   "cell_type": "markdown",
   "metadata": {},
   "source": [
    "--------------------------------------------------------------------------------\n",
    "Please cite if you use or share the content(s)/repo.\n",
    "\n",
    "How to cite: Morales, J. 2020 Clustering Toronto Destinations Abstract\n",
    "\n",
    "License: https://creativecommons.org/licenses/by-sa/4.0/"
   ]
  }
 ],
 "metadata": {
  "kernelspec": {
   "display_name": "Python [conda env:Anaconda3]",
   "language": "python",
   "name": "conda-env-Anaconda3-py"
  },
  "language_info": {
   "codemirror_mode": {
    "name": "ipython",
    "version": 3
   },
   "file_extension": ".py",
   "mimetype": "text/x-python",
   "name": "python",
   "nbconvert_exporter": "python",
   "pygments_lexer": "ipython3",
   "version": "3.6.4"
  }
 },
 "nbformat": 4,
 "nbformat_minor": 2
}
